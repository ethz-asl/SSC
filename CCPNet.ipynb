{
 "cells": [
  {
   "cell_type": "code",
   "execution_count": 1,
   "metadata": {
    "id": "vC844oIyLwIG"
   },
   "outputs": [],
   "source": [
    "import torch\n",
    "import torch.nn as nn"
   ]
  },
  {
   "cell_type": "code",
   "execution_count": 2,
   "metadata": {
    "id": "VHz4TlP_Lz-P"
   },
   "outputs": [],
   "source": [
    "class Encoder(torch.nn.Module):\n",
    "    def __init__(self):\n",
    "        super(Encoder, self).__init__()\n",
    "        self.conv1 = nn.Conv3d(in_channels=1,out_channels=8,kernel_size=3,stride=1,padding=1, dilation=1,groups=1)\n",
    "        self.conv2 = nn.Conv3d(in_channels=8,out_channels=8,kernel_size=3,stride=1,padding=1, dilation=1,groups=8)\n",
    "        self.pool3 = nn.MaxPool3d(kernel_size=3,stride=2,padding=1)\n",
    "        self.diconv4 = nn.Conv3d(in_channels=8,out_channels=16,kernel_size=3,stride=1,padding=2, dilation=2,groups=8)\n",
    "        self.diconv5 = nn.Conv3d(in_channels=16,out_channels=16,kernel_size=3,stride=1,padding=2, dilation=2,groups=4)\n",
    "        self.diconv6 = nn.Conv3d(in_channels=16,out_channels=16,kernel_size=3,stride=1,padding=2, dilation=2,groups=2)\n",
    "        self.pool7 = nn.MaxPool3d(3,2,1)\n",
    "\n",
    "    def forward(self, inputs):\n",
    "      a1 = self.conv1(inputs)\n",
    "      a2 = self.conv2(a1)\n",
    "      a3 = self.pool3(a2)\n",
    "      a4 = self.diconv4(a3)\n",
    "      a5 =self.diconv5(a4)\n",
    "      a6 =self.diconv6(a5)\n",
    "      a7 =self.pool7(a6)\n",
    "      return a2, a6, a7\n",
    "\n"
   ]
  },
  {
   "cell_type": "code",
   "execution_count": 3,
   "metadata": {
    "id": "-C1owmY0qer8"
   },
   "outputs": [],
   "source": [
    "class BRB(torch.nn.Module):\n",
    "    def __init__(self, num_feats=8):\n",
    "        super(BRB, self).__init__()\n",
    "\n",
    "        self.layers = nn.Sequential(\n",
    "            nn.Conv3d(in_channels=num_feats,out_channels=num_feats,kernel_size=3,stride=1,padding=1, dilation=1,groups=num_feats//2),\n",
    "            nn.BatchNorm3d(num_feats),\n",
    "            nn.ReLU(inplace=True),\n",
    "            nn.Conv3d(in_channels=num_feats,out_channels=num_feats,kernel_size=3,stride=1,padding=1, dilation=1,groups=num_feats//2),\n",
    "            nn.BatchNorm3d(num_feats),\n",
    "        )\n",
    "\n",
    "    def forward(self, inputs):\n",
    "      a1= self.layers(inputs)\n",
    "      a2= a1 + inputs\n",
    "      a3=nn.functional.relu(a2)\n",
    "      return a3\n",
    "\n"
   ]
  },
  {
   "cell_type": "code",
   "execution_count": 4,
   "metadata": {
    "id": "tLqaNaNcx126"
   },
   "outputs": [],
   "source": [
    "class GRB(torch.nn.Module):\n",
    "    def __init__(self, num_feats=8):\n",
    "        super(GRB, self).__init__()\n",
    "\n",
    "        self.layers = nn.Sequential(\n",
    "            nn.Conv3d(in_channels=num_feats,out_channels=num_feats,kernel_size=3,stride=1,padding=1, dilation=1,groups=num_feats//2),\n",
    "            nn.BatchNorm3d(num_feats),\n",
    "            nn.ReLU(inplace=True),\n",
    "            nn.Conv3d(in_channels=num_feats,out_channels=num_feats,kernel_size=3,stride=1,padding=1, dilation=1,groups=num_feats//2),\n",
    "            nn.BatchNorm3d(num_feats),\n",
    "        )\n",
    "\n",
    "    def forward(self, inputs):\n",
    "      a1= self.layers(inputs)\n",
    "      a2= a1 + inputs + (inputs * torch.tanh(inputs)) \n",
    "      a3= nn.functional.relu(a2)\n",
    "      return a3"
   ]
  },
  {
   "cell_type": "code",
   "execution_count": 5,
   "metadata": {
    "id": "9wZ7WxpW26XA"
   },
   "outputs": [],
   "source": [
    "class CCP(torch.nn.Module):\n",
    "    def __init__(self):\n",
    "        super(CCP, self).__init__()\n",
    "\n",
    "        self.diconv1 = nn.Conv3d(in_channels=16,out_channels=16,kernel_size=3,stride=1,padding=30, dilation=30,groups=1)\n",
    "        self.diconv2 = nn.Conv3d(in_channels=16,out_channels=16,kernel_size=3,stride=1,padding=24, dilation=24,groups=1)\n",
    "        self.diconv3 = nn.Conv3d(in_channels=16,out_channels=16,kernel_size=3,stride=1,padding=18, dilation=18,groups=1)\n",
    "        self.diconv4 = nn.Conv3d(in_channels=16,out_channels=16,kernel_size=3,stride=1,padding=12, dilation=12,groups=1)\n",
    "        self.diconv5 = nn.Conv3d(in_channels=16,out_channels=16,kernel_size=3,stride=1,padding=6, dilation=6,groups=1)\n",
    "        self.diconv6 = nn.Conv3d(in_channels=16,out_channels=16,kernel_size=3,stride=1,padding=1, dilation=1,groups=1)\n",
    "        \n",
    "        self.conv1 = nn.Conv3d(in_channels=16,out_channels=8,kernel_size=1,stride=1,padding=0, dilation=1,groups=1)\n",
    "        self.conv2 = nn.Conv3d(in_channels=16,out_channels=8,kernel_size=1,stride=1,padding=0, dilation=1,groups=1)\n",
    "        self.conv3 = nn.Conv3d(in_channels=16,out_channels=8,kernel_size=1,stride=1,padding=0, dilation=1,groups=1)\n",
    "        self.conv4 = nn.Conv3d(in_channels=16,out_channels=8,kernel_size=1,stride=1,padding=0, dilation=1,groups=1)\n",
    "        self.conv5 = nn.Conv3d(in_channels=16,out_channels=8,kernel_size=1,stride=1,padding=0, dilation=1,groups=1)\n",
    "        self.conv6 = nn.Conv3d(in_channels=16,out_channels=8,kernel_size=1,stride=1,padding=0, dilation=1,groups=1)\n",
    "\n",
    "        self.brb2 = nn.Sequential(\n",
    "            nn.Conv3d(in_channels=8,out_channels=8,kernel_size=1,stride=1,padding=0, dilation=1,groups=1),\n",
    "            BRB())\n",
    "        self.brb3 = nn.Sequential(\n",
    "            nn.Conv3d(in_channels=8,out_channels=8,kernel_size=1,stride=1,padding=0, dilation=1,groups=1),\n",
    "            BRB())\n",
    "        self.brb4 = nn.Sequential(\n",
    "            nn.Conv3d(in_channels=8,out_channels=8,kernel_size=1,stride=1,padding=0, dilation=1,groups=1),\n",
    "            BRB())\n",
    "        self.brb5 = nn.Sequential(\n",
    "            nn.Conv3d(in_channels=8,out_channels=8,kernel_size=1,stride=1,padding=0, dilation=1,groups=1),\n",
    "            BRB())\n",
    "        self.brb6 = nn.Sequential(\n",
    "            nn.Conv3d(in_channels=8,out_channels=8,kernel_size=1,stride=1,padding=0, dilation=1,groups=1),\n",
    "            BRB())\n",
    "\n",
    "    def forward(self, inputs):\n",
    "      x1 = self.conv1(self.diconv1(inputs))\n",
    "      x2 = self.conv2(self.diconv2(inputs))\n",
    "      x3 = self.conv3(self.diconv3(inputs))\n",
    "      x4 = self.conv4(self.diconv4(inputs))\n",
    "      x5 = self.conv5(self.diconv5(inputs))\n",
    "      x6 = self.conv6(self.diconv6(inputs))\n",
    "      out = self.brb6(self.brb5(self.brb4(self.brb3(self.brb2(x1+ x2) + x3) + x4) + x5) + x6)\n",
    "      return out"
   ]
  },
  {
   "cell_type": "code",
   "execution_count": 6,
   "metadata": {
    "id": "TajJf_j8EEyg"
   },
   "outputs": [],
   "source": [
    "class GRR(torch.nn.Module):\n",
    "    def __init__(self):\n",
    "        super(GRR, self).__init__()\n",
    "\n",
    "        self.conv1 = nn.Conv3d(in_channels=8,out_channels=16,kernel_size=1,stride=1,padding=0, dilation=1,groups=1)\n",
    "        \n",
    "        self.block2 = nn.Sequential(\n",
    "            GRB(num_feats=16),\n",
    "            nn.ConvTranspose3d(in_channels=16,out_channels=16,kernel_size=3, stride=2,padding=1, dilation=1,groups=1, output_padding=1),\n",
    "            nn.Conv3d(in_channels=16,out_channels=16,kernel_size=3,stride=1, padding=1, dilation=1,groups=1)\n",
    "        )\n",
    "\n",
    "        self.block3 = nn.Sequential(\n",
    "            GRB(num_feats=16),\n",
    "            nn.ConvTranspose3d(in_channels=16,out_channels=16,kernel_size=3,stride=2,padding=1, dilation=1,groups=1,output_padding=1),\n",
    "            nn.Conv3d(in_channels=16,out_channels=8,kernel_size=3,stride=1,padding=1, dilation=1,groups=1)\n",
    "        )\n",
    "\n",
    "        self.block4 = nn.Sequential(\n",
    "            GRB(num_feats=8),\n",
    "            nn.Conv3d(in_channels=8,out_channels=32,kernel_size=3, stride=1,padding=1, dilation=1,groups=1),\n",
    "            nn.Conv3d(in_channels=32,out_channels=12,kernel_size=3,stride=1,padding=1, dilation=1,groups=1)\n",
    "        )\n",
    "\n",
    "    def forward(self, inputs, encoded_feats_1x=None, encoded_feats_2x=None, encoded_feats_4x=None):\n",
    "      a1 = self.conv1(inputs)\n",
    "\n",
    "      if encoded_feats_4x is not None:\n",
    "        a1 = a1 + encoded_feats_4x\n",
    "\n",
    "      a2 = self.block2(a1)\n",
    "\n",
    "      if encoded_feats_2x is not None:\n",
    "        a2 = a2 + encoded_feats_2x\n",
    "\n",
    "      a3 = self.block3(a2)\n",
    "\n",
    "      if encoded_feats_1x is not None:\n",
    "        a3 = a3 + encoded_feats_1x\n",
    "\n",
    "      a4 = self.block4(a3)\n",
    "      return a4\n",
    "\n"
   ]
  },
  {
   "cell_type": "code",
   "execution_count": 7,
   "metadata": {
    "id": "icm2rtpugggG"
   },
   "outputs": [],
   "source": [
    "class CCPNet(torch.nn.Module):\n",
    "    def __init__(self):\n",
    "        super(CCPNet, self).__init__()\n",
    "        self.encoder = Encoder()\n",
    "        self.ccp = CCP()\n",
    "        self.grr = GRR()\n",
    "\n",
    "    def forward(self, inputs):\n",
    "       #1x, 2x, 4x dowsampled extracted feature volume blocks from original volume\n",
    "      feats_1x, feats_2x, feats_4x = self.encoder(inputs)\n",
    "\n",
    "      # ccp layer for multi scale feature aggregation\n",
    "      mfa = self.ccp(feats_4x)\n",
    "\n",
    "      # guided refinement module. Fuses lower level features from encoder \n",
    "      per_class_voxels = self.grr(mfa, feats_1x, feats_2x, feats_4x)\n",
    "\n",
    "      return per_class_voxels"
   ]
  },
  {
   "cell_type": "markdown",
   "metadata": {
    "id": "eSknV-Mmgese"
   },
   "source": [
    "### Instantiate Modules"
   ]
  },
  {
   "cell_type": "code",
   "execution_count": 8,
   "metadata": {
    "id": "P-PgKTuzZGV9"
   },
   "outputs": [],
   "source": [
    "enc = Encoder()\n",
    "brb = BRB()\n",
    "grb = GRB()\n",
    "ccp = CCP()\n",
    "grr = GRR()"
   ]
  },
  {
   "cell_type": "markdown",
   "metadata": {
    "id": "U67m21-BqSKS"
   },
   "source": [
    "#### Test Encoder"
   ]
  },
  {
   "cell_type": "code",
   "execution_count": null,
   "metadata": {
    "id": "s7hOSHnWZwIP"
   },
   "outputs": [],
   "source": [
    "inputs = torch.randn(1,1,240,144,240)\n",
    "f1,f2,f4 = enc(inputs)"
   ]
  },
  {
   "cell_type": "markdown",
   "metadata": {
    "id": "FGdPVVoJqV54"
   },
   "source": [
    "#### Test GRR"
   ]
  },
  {
   "cell_type": "code",
   "execution_count": null,
   "metadata": {
    "colab": {
     "base_uri": "https://localhost:8080/"
    },
    "id": "laH2bgc9xpny",
    "outputId": "9b9192fa-9432-4010-9404-14e29f48ca64"
   },
   "outputs": [
    {
     "data": {
      "text/plain": [
       "torch.Size([1, 12, 240, 144, 240])"
      ]
     },
     "execution_count": 20,
     "metadata": {
      "tags": []
     },
     "output_type": "execute_result"
    }
   ],
   "source": [
    "inputs2 = torch.randn(1,8,60,36,60)\n",
    "grr(inputs2,f1,f2,f4).shape"
   ]
  },
  {
   "cell_type": "markdown",
   "metadata": {
    "id": "uCki6K_Iqfo9"
   },
   "source": [
    "#### Test CCP"
   ]
  },
  {
   "cell_type": "code",
   "execution_count": null,
   "metadata": {
    "colab": {
     "base_uri": "https://localhost:8080/"
    },
    "id": "fqC4RQS59Tve",
    "outputId": "b784e972-de4e-41c6-8596-1e5016727d60"
   },
   "outputs": [
    {
     "data": {
      "text/plain": [
       "torch.Size([1, 8, 60, 36, 60])"
      ]
     },
     "execution_count": 10,
     "metadata": {
      "tags": []
     },
     "output_type": "execute_result"
    }
   ],
   "source": [
    "inputs3 = torch.randn(1,16,60,36,60).cuda()\n",
    "ccp(inputs3).shape"
   ]
  },
  {
   "cell_type": "code",
   "execution_count": null,
   "metadata": {
    "id": "3HtnoFstQWq0"
   },
   "outputs": [],
   "source": [
    "#note;\n",
    "# initialize weights using torch.nn.init.kaiming_uniform_ as mentionend in ccpnet paper"
   ]
  },
  {
   "cell_type": "markdown",
   "metadata": {
    "id": "C1PwxYr8nY4S"
   },
   "source": [
    "### Test complete Network"
   ]
  },
  {
   "cell_type": "markdown",
   "metadata": {
    "id": "JuHSNoW1nthA"
   },
   "source": [
    "#### setup network"
   ]
  },
  {
   "cell_type": "code",
   "execution_count": 14,
   "metadata": {
    "id": "bXh53r7gndle"
   },
   "outputs": [],
   "source": [
    "ccpnet = CCPNet()"
   ]
  },
  {
   "cell_type": "markdown",
   "metadata": {
    "id": "ghEZinKnnzUs"
   },
   "source": [
    "test network"
   ]
  },
  {
   "cell_type": "code",
   "execution_count": null,
   "metadata": {
    "id": "xaa6fll8nxWf"
   },
   "outputs": [],
   "source": [
    "inputs = torch.randn(1,1,240,144,240)\n",
    "semantic_voxels = ccpnet(inputs)"
   ]
  },
  {
   "cell_type": "code",
   "execution_count": null,
   "metadata": {
    "colab": {
     "base_uri": "https://localhost:8080/"
    },
    "id": "PMUXUqtLsLAg",
    "outputId": "92eb3f05-ff77-4dfe-e068-34c4a872a134"
   },
   "outputs": [
    {
     "data": {
      "text/plain": [
       "torch.Size([1, 12, 240, 144, 240])"
      ]
     },
     "execution_count": 12,
     "metadata": {
      "tags": []
     },
     "output_type": "execute_result"
    }
   ],
   "source": [
    "semantic_voxels.shape"
   ]
  },
  {
   "cell_type": "code",
   "execution_count": 15,
   "metadata": {
    "colab": {
     "base_uri": "https://localhost:8080/"
    },
    "id": "cecMxJOcviWf",
    "outputId": "80806b94-bebb-4508-f01f-8c42658f10fd"
   },
   "outputs": [
    {
     "data": {
      "text/plain": [
       "99692"
      ]
     },
     "execution_count": 15,
     "metadata": {},
     "output_type": "execute_result"
    }
   ],
   "source": [
    "sum(p.numel() for p in ccpnet.parameters())"
   ]
  },
  {
   "cell_type": "code",
   "execution_count": 11,
   "metadata": {
    "colab": {
     "base_uri": "https://localhost:8080/"
    },
    "id": "UM4ZWmc_xv_O",
    "outputId": "276b16d3-d40a-430c-cda6-a2dd92fab838"
   },
   "outputs": [],
   "source": [
    "#!pip install pthflops"
   ]
  },
  {
   "cell_type": "code",
   "execution_count": 12,
   "metadata": {
    "colab": {
     "base_uri": "https://localhost:8080/"
    },
    "id": "8RDLy4xqx5TQ",
    "outputId": "38576c67-cf80-407f-e392-35d612d351ef"
   },
   "outputs": [],
   "source": [
    "# from pthflops import count_ops\n",
    "# flops = count_ops(ccpnet, torch.randn(1,1,240,144,240))"
   ]
  },
  {
   "cell_type": "code",
   "execution_count": 10,
   "metadata": {},
   "outputs": [],
   "source": [
    "from ptflops import get_model_complexity_info"
   ]
  },
  {
   "cell_type": "code",
   "execution_count": null,
   "metadata": {},
   "outputs": [
    {
     "name": "stdout",
     "output_type": "stream",
     "text": [
      "Warning: module Encoder is treated as a zero-op.\n",
      "Warning: module BRB is treated as a zero-op.\n",
      "Warning: module CCP is treated as a zero-op.\n",
      "Warning: module GRB is treated as a zero-op.\n",
      "Warning: module GRR is treated as a zero-op.\n",
      "Warning: module CCPNet is treated as a zero-op.\n"
     ]
    }
   ],
   "source": [
    "macs, params = get_model_complexity_info(ccpnet, (1, 240, 144, 240), as_strings=True, print_per_layer_stat=True, verbose=True)\n",
    "print('{:<30}  {:<8}'.format('Computational complexity: ', macs))\n",
    "print('{:<30}  {:<8}'.format('Number of parameters: ', params))"
   ]
  }
 ],
 "metadata": {
  "colab": {
   "collapsed_sections": [],
   "name": "CCPNet.ipynb",
   "provenance": []
  },
  "kernelspec": {
   "display_name": "Python 3",
   "language": "python",
   "name": "python3"
  },
  "language_info": {
   "codemirror_mode": {
    "name": "ipython",
    "version": 3
   },
   "file_extension": ".py",
   "mimetype": "text/x-python",
   "name": "python",
   "nbconvert_exporter": "python",
   "pygments_lexer": "ipython3",
   "version": "3.6.9"
  }
 },
 "nbformat": 4,
 "nbformat_minor": 4
}
